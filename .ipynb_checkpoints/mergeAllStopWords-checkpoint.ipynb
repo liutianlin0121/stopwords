{
 "cells": [
  {
   "cell_type": "code",
   "execution_count": 41,
   "metadata": {},
   "outputs": [],
   "source": [
    "import os\n",
    "import codecs\n",
    "\n",
    "os.chdir('/Users/liutianlin/Desktop/Academics/NLP/data/stopwords/en')\n"
   ]
  },
  {
   "cell_type": "code",
   "execution_count": 42,
   "metadata": {},
   "outputs": [
    {
     "name": "stdout",
     "output_type": "stream",
     "text": [
      "loading stopwords from the file okapi_cacm.txt\n",
      "loading stopwords from the file gilner_morales.txt\n",
      "loading stopwords from the file snowball_original.txt\n",
      "loading stopwords from the file okapi_sample_expanded.txt\n",
      "loading stopwords from the file lexisnexis.txt\n",
      "loading stopwords from the file corenlp_acronym.txt\n",
      "loading stopwords from the file smart.txt\n",
      "loading stopwords from the file reuters_wos.txt\n",
      "loading stopwords from the file mysql_myisam.txt\n",
      "loading stopwords from the file ranksnl_large.txt\n",
      "loading stopwords from the file okapi_cacm_expanded.txt\n",
      "loading stopwords from the file atire_puurula.txt\n",
      "loading stopwords from the file sphinx_500.txt\n",
      "loading stopwords from the file 99webtools.txt\n",
      "loading stopwords from the file voyant_taporware.txt\n",
      "loading stopwords from the file ranksnl_oldgoogle.txt\n",
      "loading stopwords from the file weka.txt\n",
      "loading stopwords from the file taporware.txt\n",
      "loading stopwords from the file bow_short.txt\n",
      "loading stopwords from the file terrier.txt\n",
      "loading stopwords from the file textfixer.txt\n",
      "loading stopwords from the file ovid.txt\n",
      "loading stopwords from the file mysql_innodb.txt\n",
      "loading stopwords from the file indri.txt\n",
      "loading stopwords from the file spacy_gensim.txt\n",
      "loading stopwords from the file gate_keyphrase.txt\n",
      "loading stopwords from the file tonybsk_1.txt\n",
      "loading stopwords from the file vw_lda.txt\n",
      "loading stopwords from the file ebscohost_medline_cinahl.txt\n",
      "loading stopwords from the file datasciencedojo.txt\n",
      "loading stopwords from the file zettair.txt\n",
      "loading stopwords from the file t101_minimal.txt\n",
      "loading stopwords from the file snowball_expanded.txt\n",
      "loading stopwords from the file okapi_sample.txt\n",
      "loading stopwords from the file mallet.txt\n",
      "loading stopwords from the file lucene_elastisearch.txt\n",
      "loading stopwords from the file tonybsk_6.txt\n",
      "loading stopwords from the file postgresql.txt\n",
      "loading stopwords from the file nltk.txt\n",
      "loading stopwords from the file galago_forumstop.txt\n",
      "loading stopwords from the file corenlp_hardcoded.txt\n",
      "loading stopwords from the file cook1988_function_words.txt\n",
      "loading stopwords from the file glasgow_stop_words.txt\n",
      "loading stopwords from the file atire_ncbi.txt\n",
      "loading stopwords from the file corenlp_stopwords.txt\n",
      "loading stopwords from the file scikitlearn.txt\n",
      "loading stopwords from the file _none.txt\n",
      "loading stopwords from the file ranksnl_default.txt\n",
      "loading stopwords from the file lingpipe.txt\n",
      "loading stopwords from the file onix.txt\n",
      "loading stopwords from the file okapiframework.txt\n",
      "loading stopwords from the file sphinx_astellar.txt\n",
      "loading stopwords from the file galago_structured.txt\n",
      "loading stopwords from the file rouge_155.txt\n",
      "loading stopwords from the file choi_2000naacl.txt\n",
      "loading stopwords from the file galago_rmstop.txt\n",
      "The number of stop words found: 2402\n"
     ]
    }
   ],
   "source": [
    "allStopWords = []\n",
    "\n",
    "for file in os.listdir(os.getcwd()):\n",
    "    print('loading stopwords from the file', file)\n",
    "    with codecs.open(file, \"r\", \"utf-8\") as f:\n",
    "        for line in f:\n",
    "            try:\n",
    "                stopWord = line.split()[0]\n",
    "                allStopWords.append(stopWord)\n",
    "            except:\n",
    "                pass\n",
    "\n",
    "uniqueStopWords = list(set(allStopWords))\n",
    "\n",
    "print('The number of stop words found:', len(uniqueStopWords))\n"
   ]
  },
  {
   "cell_type": "code",
   "execution_count": 51,
   "metadata": {},
   "outputs": [],
   "source": [
    "os.chdir('/Users/liutianlin/Desktop/Academics/NLP/data/stopwords/')\n",
    "\n",
    "with open('allStopWords.txt', 'w') as newfile:\n",
    "    for item in uniqueStopWords:\n",
    "        newfile.write(\"%s\\n\" % item)"
   ]
  },
  {
   "cell_type": "code",
   "execution_count": 45,
   "metadata": {},
   "outputs": [
    {
     "data": {
      "text/plain": [
       "'song'"
      ]
     },
     "execution_count": 45,
     "metadata": {},
     "output_type": "execute_result"
    }
   ],
   "source": []
  }
 ],
 "metadata": {
  "kernelspec": {
   "display_name": "Python 3",
   "language": "python",
   "name": "python3"
  },
  "language_info": {
   "codemirror_mode": {
    "name": "ipython",
    "version": 3
   },
   "file_extension": ".py",
   "mimetype": "text/x-python",
   "name": "python",
   "nbconvert_exporter": "python",
   "pygments_lexer": "ipython3",
   "version": "3.6.4"
  }
 },
 "nbformat": 4,
 "nbformat_minor": 2
}
